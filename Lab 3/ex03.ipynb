{
 "cells": [
  {
   "cell_type": "code",
   "execution_count": 4,
   "metadata": {},
   "outputs": [],
   "source": [
    "# Useful starting lines\n",
    "%matplotlib inline\n",
    "import numpy as np\n",
    "import matplotlib.pyplot as plt\n",
    "%load_ext autoreload\n",
    "%autoreload 2"
   ]
  },
  {
   "cell_type": "markdown",
   "metadata": {},
   "source": [
    "# 1 Least squares and linear basis functions models\n",
    "## 1.1 Least squares"
   ]
  },
  {
   "cell_type": "code",
   "execution_count": 93,
   "metadata": {},
   "outputs": [],
   "source": [
    "def compute_mse(y, tx, w):\n",
    "    \"\"\"Calculate the mse loss.\n",
    "    \"\"\"\n",
    "    # ***************************************************\n",
    "    return  np.mean((y- np.dot(tx,w))**2)*0.5\n",
    "    # ***************************************************"
   ]
  },
  {
   "cell_type": "code",
   "execution_count": 94,
   "metadata": {},
   "outputs": [],
   "source": [
    "def least_squares(y, tx):\n",
    "    \"\"\"calculate the least squares solution.\"\"\"\n",
    "    # ***************************************************\n",
    "    w=np.linalg.solve(tx.T @ tx, tx.T @ y)   \n",
    "    mse=compute_mse(y, tx, w)\n",
    "    return mse,w\n",
    "    # returns mse, and optimal weights\n",
    "    # ***************************************************\n"
   ]
  },
  {
   "cell_type": "markdown",
   "metadata": {},
   "source": [
    "### Load the data\n",
    "Here we will reuse the dataset `height_weight_genders.csv` from previous exercise section to check the correctness of your implementation. Please compare it with your previous result."
   ]
  },
  {
   "cell_type": "code",
   "execution_count": 11,
   "metadata": {},
   "outputs": [],
   "source": [
    "def grid_search(y, tx, w0, w1):\n",
    "    \"\"\"Algorithm for grid search.\"\"\"\n",
    "    losses = np.zeros((len(w0), len(w1)))\n",
    "    # ***************************************************\n",
    "    for i,row in enumerate(w0):\n",
    "        for j,col in enumerate(w1):\n",
    "            losses[i,j]=compute_mse(y,tx,(row,col))\n",
    "    # ***************************************************\n",
    "    return losses"
   ]
  },
  {
   "cell_type": "code",
   "execution_count": 12,
   "metadata": {},
   "outputs": [],
   "source": [
    "def build_model_data(height, weight):\n",
    "    \"\"\"Form (y,tX) to get regression data in matrix form.\"\"\"\n",
    "    y = weight\n",
    "    x = height\n",
    "    num_samples = len(y)\n",
    "    tx = np.c_[np.ones(num_samples), x]  # (N,) and (N,) construct an NX2 matrix\n",
    "    return y, tx"
   ]
  },
  {
   "cell_type": "code",
   "execution_count": 13,
   "metadata": {},
   "outputs": [],
   "source": [
    "from helpers import *\n",
    "def test_your_least_squares():\n",
    "    height, weight, gender = load_data_from_ex02(sub_sample=False, add_outlier=False)\n",
    "    x, mean_x, std_x = standardize(height)\n",
    "    y, tx = build_model_data(x, weight)\n",
    "    # ***************************************************\n",
    "    grid_w0= np.linspace(-100, 200, 10)\n",
    "    grid_w1=np.linspace(-150, 150, 10)\n",
    "    losse_grid_search=grid_search(y,tx,grid_w0,grid_w1)\n",
    "    losse_least_squares,w_least_square=least_squares(y,tx)\n",
    "    print('Best losse for grid search: {0}'.format(np.min(losse_grid_search)))\n",
    "    print('Losse for least squares: {0} and optimal weight is {1}'.format(losse_least_squares,w_least_square))\n",
    "    # least square or grid search: TODO\n",
    "    # this code should compare the optimal weights obtained \n",
    "    # by least squares vs. grid search\n",
    "    # ***************************************************\n",
    "    return "
   ]
  },
  {
   "cell_type": "markdown",
   "metadata": {},
   "source": [
    "Test it here"
   ]
  },
  {
   "cell_type": "code",
   "execution_count": 14,
   "metadata": {},
   "outputs": [
    {
     "name": "stdout",
     "output_type": "stream",
     "text": [
      "Best losse for grid search: 42.42448314678248\n",
      "Losse for least squares: 15.3858878688294 and optimal weight is [73.293922   13.47971243]\n"
     ]
    }
   ],
   "source": [
    "test_your_least_squares()"
   ]
  },
  {
   "cell_type": "markdown",
   "metadata": {},
   "source": [
    "## 1.2 Least squares with a linear basis function model\n",
    "Start from this section, we will use the dataset `dataEx3.csv`.\n",
    "\n",
    "### Implement polynomial basis functions"
   ]
  },
  {
   "cell_type": "code",
   "execution_count": 15,
   "metadata": {
    "scrolled": true
   },
   "outputs": [
    {
     "name": "stdout",
     "output_type": "stream",
     "text": [
      "shape of x (50,)\n",
      "shape of y (50,)\n"
     ]
    }
   ],
   "source": [
    "# load dataset\n",
    "x, y = load_data()\n",
    "print(\"shape of x {}\".format(x.shape))\n",
    "print(\"shape of y {}\".format(y.shape))"
   ]
  },
  {
   "cell_type": "code",
   "execution_count": 16,
   "metadata": {},
   "outputs": [],
   "source": [
    "def build_poly(x, degree):\n",
    "    \"\"\"polynomial basis functions for input data x, for j=0 up to j=degree.\"\"\"\n",
    "    # ***************************************************\n",
    "    expand=np.ones((x.shape[0],1))\n",
    "    for i in range(1,degree+1):\n",
    "        expand=np.hstack((expand,x.reshape((-1,1))**i))\n",
    "    # ***************************************************\n",
    "    return expand"
   ]
  },
  {
   "cell_type": "code",
   "execution_count": 17,
   "metadata": {},
   "outputs": [
    {
     "data": {
      "text/plain": [
       "array([[1.00000000e+00, 3.52374910e-01, 1.24168077e-01],\n",
       "       [1.00000000e+00, 4.89512330e+00, 2.39622321e+01],\n",
       "       [1.00000000e+00, 1.86662437e+00, 3.48428655e+00],\n",
       "       [1.00000000e+00, 3.50706129e+00, 1.22994789e+01],\n",
       "       [1.00000000e+00, 3.38087384e+00, 1.14303079e+01],\n",
       "       [1.00000000e+00, 7.30937276e-01, 5.34269301e-01],\n",
       "       [1.00000000e+00, 3.88562366e+00, 1.50980712e+01],\n",
       "       [1.00000000e+00, 5.65224803e+00, 3.19479078e+01],\n",
       "       [1.00000000e+00, 6.28318531e+00, 3.94784176e+01],\n",
       "       [1.00000000e+00, 2.37137419e+00, 5.62341557e+00],\n",
       "       [1.00000000e+00, 6.04749821e-01, 3.65722346e-01],\n",
       "       [1.00000000e+00, 3.63324875e+00, 1.32004965e+01],\n",
       "       [1.00000000e+00, 8.57124731e-01, 7.34662804e-01],\n",
       "       [1.00000000e+00, 2.49756165e+00, 6.23781420e+00],\n",
       "       [1.00000000e+00, 1.61424946e+00, 2.60580133e+00],\n",
       "       [1.00000000e+00, 5.39987312e+00, 2.91586297e+01],\n",
       "       [1.00000000e+00, 6.15699785e+00, 3.79086225e+01],\n",
       "       [1.00000000e+00, 6.03081040e+00, 3.63706740e+01],\n",
       "       [1.00000000e+00, 4.78562366e-01, 2.29021938e-01],\n",
       "       [1.00000000e+00, 2.87612401e+00, 8.27208935e+00],\n",
       "       [1.00000000e+00, 4.51656093e+00, 2.03993227e+01],\n",
       "       [1.00000000e+00, 9.83312187e-01, 9.66902857e-01],\n",
       "       [1.00000000e+00, 1.10949964e+00, 1.23098946e+00],\n",
       "       [1.00000000e+00, 1.00000000e-01, 1.00000000e-02],\n",
       "       [1.00000000e+00, 2.11899928e+00, 4.49015797e+00],\n",
       "       [1.00000000e+00, 1.36187455e+00, 1.85470230e+00],\n",
       "       [1.00000000e+00, 4.01181111e+00, 1.60946284e+01],\n",
       "       [1.00000000e+00, 5.77843549e+00, 3.33903167e+01],\n",
       "       [1.00000000e+00, 4.26418602e+00, 1.81832824e+01],\n",
       "       [1.00000000e+00, 1.23568710e+00, 1.52692260e+00],\n",
       "       [1.00000000e+00, 2.24518674e+00, 5.04086349e+00],\n",
       "       [1.00000000e+00, 1.99281183e+00, 3.97129899e+00],\n",
       "       [1.00000000e+00, 1.48806201e+00, 2.21432854e+00],\n",
       "       [1.00000000e+00, 4.64274839e+00, 2.15551126e+01],\n",
       "       [1.00000000e+00, 4.39037348e+00, 1.92753793e+01],\n",
       "       [1.00000000e+00, 3.00231147e+00, 9.01387417e+00],\n",
       "       [1.00000000e+00, 2.26187455e-01, 5.11607648e-02],\n",
       "       [1.00000000e+00, 5.27368567e+00, 2.78117605e+01],\n",
       "       [1.00000000e+00, 5.02131076e+00, 2.52135617e+01],\n",
       "       [1.00000000e+00, 5.52606058e+00, 3.05373455e+01],\n",
       "       [1.00000000e+00, 2.62374910e+00, 6.88405937e+00],\n",
       "       [1.00000000e+00, 4.76893584e+00, 2.27427491e+01],\n",
       "       [1.00000000e+00, 3.12849893e+00, 9.78750553e+00],\n",
       "       [1.00000000e+00, 1.74043692e+00, 3.02912067e+00],\n",
       "       [1.00000000e+00, 3.75943620e+00, 1.41333606e+01],\n",
       "       [1.00000000e+00, 3.25468638e+00, 1.05929834e+01],\n",
       "       [1.00000000e+00, 5.90462294e+00, 3.48645721e+01],\n",
       "       [1.00000000e+00, 4.13799857e+00, 1.71230321e+01],\n",
       "       [1.00000000e+00, 2.74993656e+00, 7.56215108e+00],\n",
       "       [1.00000000e+00, 5.14749821e+00, 2.64967378e+01]])"
      ]
     },
     "execution_count": 17,
     "metadata": {},
     "output_type": "execute_result"
    }
   ],
   "source": [
    "x.shape\n",
    "build_poly(x,2)"
   ]
  },
  {
   "cell_type": "markdown",
   "metadata": {},
   "source": [
    "Let us play with polynomial regression. Note that we will use your implemented function `compute_mse`. Please copy and paste your implementation from exercise02."
   ]
  },
  {
   "cell_type": "code",
   "execution_count": 18,
   "metadata": {},
   "outputs": [],
   "source": [
    "from plots import *\n",
    "\n",
    "def polynomial_regression():\n",
    "    \"\"\"Constructing the polynomial basis function expansion of the data,\n",
    "       and then running least squares regression.\"\"\"\n",
    "    # define parameters\n",
    "    degrees = [1, 3, 7, 12]\n",
    "    \n",
    "    # define the structure of the figure\n",
    "    num_row = 2\n",
    "    num_col = 2\n",
    "    f, axs = plt.subplots(num_row, num_col)\n",
    "\n",
    "    for ind, degree in enumerate(degrees):\n",
    "        # ***************************************************\n",
    "        x_expand=build_poly(x, degree)\n",
    "        # ***************************************************\n",
    "        # ***************************************************\n",
    "        mse,weights=least_squares(y,x_expand)\n",
    "        rmse=np.sqrt(2*mse)\n",
    "        # ***************************************************\n",
    "\n",
    "        print(\"Processing {i}th experiment, degree={d}, rmse={loss}\".format(\n",
    "              i=ind + 1, d=degree, loss=rmse))\n",
    "        # plot fit\n",
    "        plot_fitted_curve(\n",
    "            y, x, weights, degree, axs[ind // num_col][ind % num_col])\n",
    "    plt.tight_layout()\n",
    "    plt.savefig(\"visualize_polynomial_regression\")\n",
    "    plt.show()"
   ]
  },
  {
   "cell_type": "markdown",
   "metadata": {},
   "source": [
    "Run polynomial regression"
   ]
  },
  {
   "cell_type": "code",
   "execution_count": 19,
   "metadata": {},
   "outputs": [
    {
     "name": "stdout",
     "output_type": "stream",
     "text": [
      "Processing 1th experiment, degree=1, rmse=0.47187607963421874\n",
      "Processing 2th experiment, degree=3, rmse=0.25858277667737484\n",
      "Processing 3th experiment, degree=7, rmse=0.24965870360907552\n",
      "Processing 4th experiment, degree=12, rmse=0.24328247481248674\n"
     ]
    },
    {
     "data": {
      "image/png": "[encoded data removed]",
      "text/plain": [
       "<Figure size 432x288 with 4 Axes>"
      ]
     },
     "metadata": {
      "needs_background": "light"
     },
     "output_type": "display_data"
    }
   ],
   "source": [
    "polynomial_regression()"
   ]
  },
  {
   "cell_type": "markdown",
   "metadata": {},
   "source": [
    "# 2 Evaluating model predication performance\n",
    "\n",
    "\n",
    "Let us show the train and test splits for various polynomial degrees. First of all, please fill in the function `split_data()`"
   ]
  },
  {
   "cell_type": "code",
   "execution_count": 103,
   "metadata": {},
   "outputs": [],
   "source": [
    "def split_data(x, y, ratio, seed=1):\n",
    "    \"\"\"\n",
    "    split the dataset based on the split ratio. If ratio is 0.8 \n",
    "    you will have 80% of your data set dedicated to training \n",
    "    and the rest dedicated to testing\n",
    "    \"\"\"\n",
    "    # set seed\n",
    "    np.random.seed(seed)\n",
    "    # ***************************************************\n",
    "    indices=np.arange(len(y))\n",
    "    np.random.shuffle(indices)\n",
    "    \n",
    "    splits=[int(len(y)*ratio)]      #.cum() if severals\n",
    "    \n",
    "    x_train,x_test=np.split(x[indices],splits)\n",
    "    y_train,y_test=np.split(y[indices],splits)\n",
    "    \n",
    "    return x_train,y_train,x_test,y_test\n",
    "    # ***************************************************"
   ]
  },
  {
   "cell_type": "markdown",
   "metadata": {},
   "source": [
    "Then, test your `split_data` function below."
   ]
  },
  {
   "cell_type": "code",
   "execution_count": 104,
   "metadata": {},
   "outputs": [],
   "source": [
    "def train_test_split_demo(x, y, degree, ratio, seed):\n",
    "    \"\"\"polynomial regression with different split ratios and different degrees.\"\"\"\n",
    "    # ***************************************************\n",
    "    \n",
    "    x_train,y_train,x_test,y_test=split_data(x, y, ratio,seed)\n",
    "    \n",
    "    x_train_expand= build_poly(x_train, degree)\n",
    "    y_train_expand= build_poly(y_train, degree)\n",
    "    x_test_expand = build_poly(x_test, degree)\n",
    "    y_test_expand = build_poly(y_test, degree)\n",
    "    \n",
    "    mse_tr,w=least_squares(y_train_expand, x_train_expand)\n",
    "    mse_te=compute_mse(y_test_expand,x_test_expand,w)\n",
    "    \n",
    "    rmse_tr=np.sqrt(2*mse_tr)\n",
    "    rmse_te=np.sqrt(2*mse_te)\n",
    "    \n",
    "    # ***************************************************\n",
    "    print(\"proportion={p}, degree={d}, Training RMSE={tr:.3f}, Testing RMSE={te:.3f}\".format(\n",
    "          p=ratio, d=degree, tr=rmse_tr, te=rmse_te))\n"
   ]
  },
  {
   "cell_type": "code",
   "execution_count": 105,
   "metadata": {},
   "outputs": [
    {
     "name": "stdout",
     "output_type": "stream",
     "text": [
      "proportion=0.9, degree=1, Training RMSE=0.349, Testing RMSE=0.128\n",
      "proportion=0.9, degree=3, Training RMSE=0.394, Testing RMSE=0.309\n",
      "proportion=0.9, degree=7, Training RMSE=0.883, Testing RMSE=0.703\n",
      "proportion=0.9, degree=12, Training RMSE=2.627, Testing RMSE=2.808\n",
      "proportion=0.5, degree=1, Training RMSE=0.321, Testing RMSE=0.375\n",
      "proportion=0.5, degree=3, Training RMSE=0.371, Testing RMSE=0.431\n",
      "proportion=0.5, degree=7, Training RMSE=0.844, Testing RMSE=1.082\n",
      "proportion=0.5, degree=12, Training RMSE=2.588, Testing RMSE=4.194\n",
      "proportion=0.1, degree=1, Training RMSE=0.302, Testing RMSE=0.378\n",
      "proportion=0.1, degree=3, Training RMSE=0.192, Testing RMSE=0.584\n",
      "proportion=0.1, degree=7, Training RMSE=0.000, Testing RMSE=18.510\n",
      "proportion=0.1, degree=12, Training RMSE=0.000, Testing RMSE=130.412\n"
     ]
    }
   ],
   "source": [
    "seed = 6\n",
    "degrees = [1, 3, 7, 12]\n",
    "split_ratios = [0.9, 0.5, 0.1]\n",
    "\n",
    "for split_ratio in split_ratios:\n",
    "    for degree in degrees:\n",
    "        train_test_split_demo(x, y, degree, split_ratio, seed)"
   ]
  },
  {
   "cell_type": "markdown",
   "metadata": {},
   "source": [
    "# 3 Ridge Regression\n",
    "Please fill in the function below."
   ]
  },
  {
   "cell_type": "code",
   "execution_count": 109,
   "metadata": {},
   "outputs": [],
   "source": [
    "def ridge_regression(y, tx, lambda_):\n",
    "    \"\"\"implement ridge regression.\"\"\"\n",
    "    # ***************************************************\n",
    "    w=np.linalg.solve(tx.T @ tx  + lambda_* 2*len(y) *np.identity(tx.shape[1]) ,tx.T @ y)\n",
    "    return w\n",
    "    # ***************************************************"
   ]
  },
  {
   "cell_type": "code",
   "execution_count": 110,
   "metadata": {},
   "outputs": [],
   "source": [
    "def ridge_regression_demo(x, y, degree, ratio, seed):\n",
    "    \"\"\"ridge regression demo.\"\"\"\n",
    "    # define parameter\n",
    "    lambdas = np.logspace(-5, 0, 15)\n",
    "    # ***************************************************\n",
    "    x_train,y_train,x_test,y_test=split_data(x,y,ratio,seed)\n",
    "    \n",
    "    x_train_expand= build_poly(x_train, degree)\n",
    "    x_test_expand = build_poly(x_test, degree)\n",
    "\n",
    "    rmse_tr = []\n",
    "    rmse_te = []\n",
    "    for ind, lambda_ in enumerate(lambdas):\n",
    "\n",
    "        w=ridge_regression(y_train, x_train_expand, lambda_)\n",
    "\n",
    "        rmse_tr.append(np.sqrt(2*compute_mse(y_train, x_train_expand, w)))\n",
    "        rmse_te.append(np.sqrt(2*compute_mse(y_test, x_test_expand, w)))\n",
    "        \n",
    "        print(\"proportion={p}, degree={d}, lambda={l:.3f}, Training RMSE={tr:.3f}, Testing RMSE={te:.3f}\".format(\n",
    "               p=ratio, d=degree, l=lambda_, tr=rmse_tr[ind], te=rmse_te[ind]))\n",
    "        \n",
    "    # Plot the obtained results\n",
    "    plot_train_test(rmse_tr, rmse_te, lambdas, degree)\n"
   ]
  },
  {
   "cell_type": "code",
   "execution_count": 111,
   "metadata": {
    "scrolled": false
   },
   "outputs": [
    {
     "name": "stdout",
     "output_type": "stream",
     "text": [
      "proportion=0.5, degree=7, lambda=0.000, Training RMSE=0.227, Testing RMSE=0.338\n",
      "proportion=0.5, degree=7, lambda=0.000, Training RMSE=0.227, Testing RMSE=0.338\n",
      "proportion=0.5, degree=7, lambda=0.000, Training RMSE=0.227, Testing RMSE=0.338\n",
      "proportion=0.5, degree=7, lambda=0.000, Training RMSE=0.227, Testing RMSE=0.338\n",
      "proportion=0.5, degree=7, lambda=0.000, Training RMSE=0.227, Testing RMSE=0.338\n",
      "proportion=0.5, degree=7, lambda=0.001, Training RMSE=0.227, Testing RMSE=0.338\n",
      "proportion=0.5, degree=7, lambda=0.001, Training RMSE=0.227, Testing RMSE=0.337\n",
      "proportion=0.5, degree=7, lambda=0.003, Training RMSE=0.227, Testing RMSE=0.336\n",
      "proportion=0.5, degree=7, lambda=0.007, Training RMSE=0.227, Testing RMSE=0.335\n",
      "proportion=0.5, degree=7, lambda=0.016, Training RMSE=0.228, Testing RMSE=0.334\n",
      "proportion=0.5, degree=7, lambda=0.037, Training RMSE=0.229, Testing RMSE=0.333\n",
      "proportion=0.5, degree=7, lambda=0.085, Training RMSE=0.229, Testing RMSE=0.328\n",
      "proportion=0.5, degree=7, lambda=0.193, Training RMSE=0.231, Testing RMSE=0.316\n",
      "proportion=0.5, degree=7, lambda=0.439, Training RMSE=0.233, Testing RMSE=0.297\n",
      "proportion=0.5, degree=7, lambda=1.000, Training RMSE=0.238, Testing RMSE=0.279\n"
     ]
    },
    {
     "data": {
      "image/png": "[encoded data removed]",
      "text/plain": [
       "<Figure size 432x288 with 1 Axes>"
      ]
     },
     "metadata": {
      "needs_background": "light"
     },
     "output_type": "display_data"
    }
   ],
   "source": [
    "seed = 56\n",
    "degree = 7\n",
    "split_ratio = 0.5\n",
    "ridge_regression_demo(x, y, degree, split_ratio, seed)"
   ]
  },
  {
   "cell_type": "code",
   "execution_count": null,
   "metadata": {},
   "outputs": [],
   "source": []
  },
  {
   "cell_type": "code",
   "execution_count": null,
   "metadata": {},
   "outputs": [],
   "source": []
  }
 ],
 "metadata": {
  "anaconda-cloud": {},
  "kernelspec": {
   "display_name": "Python 3",
   "language": "python",
   "name": "python3"
  },
  "language_info": {
   "codemirror_mode": {
    "name": "ipython",
    "version": 3
   },
   "file_extension": ".py",
   "mimetype": "text/x-python",
   "name": "python",
   "nbconvert_exporter": "python",
   "pygments_lexer": "ipython3",
   "version": "3.6.9"
  }
 },
 "nbformat": 4,
 "nbformat_minor": 1
}
